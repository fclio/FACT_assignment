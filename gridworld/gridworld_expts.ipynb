{
 "cells": [
  {
   "cell_type": "markdown",
   "id": "6fc366b0",
   "metadata": {},
   "source": [
    "# Explaining RL Decisions with Trajectories\n",
    "\n",
    "This file contains code used for generating results of the gridworld experiments."
   ]
  },
  {
   "cell_type": "code",
   "execution_count": 10,
   "id": "09e2eab8",
   "metadata": {
    "scrolled": true
   },
   "outputs": [
    {
     "ename": "ImportError",
     "evalue": "cannot import name 'generate_model' from 'utils' (/mnt/c/users/bartd/OneDrive/UvA/Y1/Period3/FACT/FACT_assignment/gridworld/utils.py)",
     "output_type": "error",
     "traceback": [
      "\u001b[0;31m---------------------------------------------------------------------------\u001b[0m",
      "\u001b[0;31mImportError\u001b[0m                               Traceback (most recent call last)",
      "\u001b[0;32m/tmp/ipykernel_30266/1779562855.py\u001b[0m in \u001b[0;36m<module>\u001b[0;34m\u001b[0m\n\u001b[1;32m     15\u001b[0m \u001b[0;34m\u001b[0m\u001b[0m\n\u001b[1;32m     16\u001b[0m \u001b[0;31m# Import utility functions from other files\u001b[0m\u001b[0;34m\u001b[0m\u001b[0;34m\u001b[0m\u001b[0;34m\u001b[0m\u001b[0m\n\u001b[0;32m---> 17\u001b[0;31m \u001b[0;32mfrom\u001b[0m \u001b[0mutils\u001b[0m \u001b[0;32mimport\u001b[0m \u001b[0mgenerate_model\u001b[0m\u001b[0;34m,\u001b[0m \u001b[0mdp\u001b[0m\u001b[0;34m,\u001b[0m \u001b[0mgenerate_offline_data\u001b[0m\u001b[0;34m\u001b[0m\u001b[0;34m\u001b[0m\u001b[0m\n\u001b[0m\u001b[1;32m     18\u001b[0m \u001b[0;32mfrom\u001b[0m \u001b[0menv\u001b[0m \u001b[0;32mimport\u001b[0m \u001b[0mAgent\u001b[0m\u001b[0;34m,\u001b[0m \u001b[0mEnvironment\u001b[0m\u001b[0;34m\u001b[0m\u001b[0;34m\u001b[0m\u001b[0m\n\u001b[1;32m     19\u001b[0m \u001b[0;34m\u001b[0m\u001b[0m\n",
      "\u001b[0;31mImportError\u001b[0m: cannot import name 'generate_model' from 'utils' (/mnt/c/users/bartd/OneDrive/UvA/Y1/Period3/FACT/FACT_assignment/gridworld/utils.py)"
     ]
    }
   ],
   "source": [
    "# Regular data science libraries\n",
    "import numpy as np\n",
    "import pandas as pd\n",
    "import json\n",
    "import os\n",
    "import pickle\n",
    "import random\n",
    "\n",
    "\n",
    "# DNN libraries\n",
    "import torch\n",
    "import torch.nn as nn\n",
    "import torch.nn.functional as F\n",
    "\n",
    "\n",
    "# Import utility functions from other files\n",
    "from utils import generate_model, dp, generate_offline_data\n",
    "from env import Agent, Environment\n",
    "\n",
    "\n",
    "# Plotting libraries\n",
    "import seaborn as sns\n",
    "import matplotlib as mpl\n",
    "import matplotlib.pyplot as plt\n",
    "import scienceplots\n",
    "mpl.rcParams['axes.spines.right'] = False\n",
    "mpl.rcParams['axes.spines.top'] = False\n",
    "plt.style.use('ieee')\n",
    "\n",
    "\n",
    "# Clustering libraries\n",
    "from sklearn.decomposition import PCA\n",
    "from pyclustering.cluster import cluster_visualizer\n",
    "from pyclustering.cluster.xmeans import xmeans\n",
    "from pyclustering.cluster.center_initializer import kmeans_plusplus_initializer\n",
    "from pyclustering.utils import read_sample\n",
    "from pyclustering.samples.definitions import SIMPLE_SAMPLES\n",
    "from scipy.stats import wasserstein_distance\n",
    "\n",
    "# Set the seeds\n",
    "random.seed(0)\n",
    "np.random.seed(0)\n",
    "torch.manual_seed(0)\n"
   ]
  },
  {
   "cell_type": "markdown",
   "id": "7c08583d",
   "metadata": {},
   "source": [
    "### Instantiate the Environment"
   ]
  },
  {
   "cell_type": "markdown",
   "id": "83359c52",
   "metadata": {},
   "source": [
    "Pick one of the three provided environments: FourRooms, 7x7 (default), or 5x5. The environment implementation is provided in a script attached with this notebook."
   ]
  },
  {
   "cell_type": "code",
   "execution_count": 2,
   "id": "47b730f2",
   "metadata": {},
   "outputs": [],
   "source": [
    "# # Four Rooms Environment\n",
    "\n",
    "# action_dict = {0: 'LEFT', 1: 'UP', 2: 'RIGHT', 3: 'DOWN'}\n",
    "# reward_dict = {1:0, -1:1, -0.1:2, 0:3}\n",
    "\n",
    "# #####\n",
    "\n",
    "# # Environment Definition\n",
    "# env_width = 11\n",
    "# env_height = 11\n",
    "# env = Environment(dim=(env_width, env_height),\n",
    "# #                   starts=[(2, 0), (6, 2), (2,4), (5,5)],\n",
    "#                   terminals={(0, 0): +1, (0, 10): +1, (4, 3): -1, (8, 2):-1, (2, 8):+1, (3, 6):-1, (7,7):-1, (10, 6):-1, (10, 4):+1, (10, 8):+1},\n",
    "#                   obstacles=[[0, 5], [1, 5], [3, 5], [4, 5], [5, 0], [5, 2], [5, 3], [5, 4], [5, 5], [6, 5], [7, 5], [8, 5], [10, 5], [6, 6], [6, 7], [6, 9], [6, 10]],\n",
    "#                   stoc=0.)\n",
    "\n",
    "# env.render(title='Four Rooms')\n",
    "\n",
    "# # Initialize the agent\n",
    "# agent = Agent(env)\n",
    "\n",
    "# #####"
   ]
  },
  {
   "cell_type": "code",
   "execution_count": 6,
   "id": "c9315715",
   "metadata": {
    "code_folding": [],
    "scrolled": false
   },
   "outputs": [
    {
     "data": {
      "image/png": "[encoded data removed]",
      "text/plain": [
       "<Figure size 144x144 with 1 Axes>"
      ]
     },
     "metadata": {
      "needs_background": "light"
     },
     "output_type": "display_data"
    }
   ],
   "source": [
    "# # 7x7 Gridworld Environment\n",
    "\n",
    "action_dict = {0: 'LEFT', 1: 'UP', 2: 'RIGHT', 3: 'DOWN'}\n",
    "reward_dict = {1:0, -1:1, -0.1:2, 0:3}\n",
    "\n",
    "#####\n",
    "\n",
    "# Environment Definition\n",
    "env_width = 7\n",
    "env_height = 7\n",
    "env = Environment(dim=(env_width, env_height),\n",
    "                  starts=[(2, 0), (6, 2), (2,4)],\n",
    "                  terminals={(0, 6): +1, (6, 6): +1, (4, 3): -1},\n",
    "                  obstacles=[[1, 1], [1, 3], [3, 1], [3, 3], [4,4], [6, 4], [4,6]],\n",
    "                  stoc=0.)\n",
    "\n",
    "env.render(title='7x7 Gridworld')\n",
    "\n",
    "# Initialize the agent\n",
    "agent = Agent(env)\n",
    "\n",
    "#####"
   ]
  },
  {
   "cell_type": "code",
   "execution_count": 4,
   "id": "43a18021",
   "metadata": {},
   "outputs": [],
   "source": [
    "# # 5x5 Gridworld Environment\n",
    "# action_dict = {0: 'LEFT', 1: 'UP', 2: 'RIGHT', 3: 'DOWN'}\n",
    "# reward_dict = {1:0, -1:1, -0.1:2, 0:3}\n",
    "\n",
    "# #####\n",
    "\n",
    "# # Environment Definition\n",
    "# env_width = 5\n",
    "# env_height = 5\n",
    "# env = Environment(dim=(env_width, env_height),\n",
    "#                   starts=[(4, 4), (4, 2)],\n",
    "#                   terminals={(0, 1): +1, (4, 4): -1},\n",
    "#                   obstacles=[[3,2],[3,3]],\n",
    "#                   stoc=0.)\n",
    "\n",
    "# env.render(title='Gridworld')\n",
    "\n",
    "# # Initialize the agent\n",
    "# agent = Agent(env)\n",
    "\n",
    "# #####"
   ]
  },
  {
   "cell_type": "markdown",
   "id": "5242deda",
   "metadata": {},
   "source": [
    "### Collecting offline trajectory data"
   ]
  },
  {
   "cell_type": "code",
   "execution_count": 7,
   "id": "efa67a76",
   "metadata": {
    "scrolled": true
   },
   "outputs": [
    {
     "name": "stdout",
     "output_type": "stream",
     "text": [
      "Training 5 Agents\n"
     ]
    },
    {
     "name": "stderr",
     "output_type": "stream",
     "text": [
      "100%|█████████████████████████████████████████████████████████████████████████████████████| 5/5 [00:01<00:00,  4.94it/s]\n"
     ]
    },
    {
     "name": "stdout",
     "output_type": "stream",
     "text": [
      "# POS TRAJs 1\n",
      "# NEG TRAJs 1\n",
      "# NEG TRAJs 2\n",
      "# POS TRAJs 2\n",
      "# POS TRAJs 3\n",
      "# NEG TRAJs 3\n",
      "# POS TRAJs 4\n",
      "# POS TRAJs 5\n",
      "# POS TRAJs 6\n",
      "# NEG TRAJs 4\n",
      "# POS TRAJs 7\n",
      "# NEG TRAJs 5\n",
      "# POS TRAJs 8\n",
      "# NEG TRAJs 6\n",
      "# POS TRAJs 9\n",
      "# POS TRAJs 10\n",
      "# NEG TRAJs 7\n",
      "# NEG TRAJs 8\n",
      "# NEG TRAJs 9\n",
      "# NEG TRAJs 10\n",
      "# POS TRAJs 11\n",
      "# POS TRAJs 12\n",
      "# POS TRAJs 13\n",
      "# POS TRAJs 14\n",
      "# POS TRAJs 15\n",
      "# POS TRAJs 16\n",
      "# POS TRAJs 17\n",
      "# POS TRAJs 18\n",
      "# POS TRAJs 19\n",
      "# POS TRAJs 20\n",
      "# POS TRAJs 21\n",
      "# POS TRAJs 22\n",
      "# POS TRAJs 23\n",
      "# POS TRAJs 24\n",
      "# POS TRAJs 25\n",
      "# POS TRAJs 26\n",
      "# POS TRAJs 27\n",
      "# POS TRAJs 28\n",
      "# POS TRAJs 29\n",
      "# POS TRAJs 30\n",
      "# POS TRAJs 31\n",
      "# POS TRAJs 32\n",
      "# POS TRAJs 33\n",
      "# POS TRAJs 34\n",
      "# POS TRAJs 35\n",
      "# POS TRAJs 36\n",
      "# POS TRAJs 37\n",
      "# POS TRAJs 38\n",
      "# POS TRAJs 39\n",
      "# POS TRAJs 40\n",
      "# POS TRAJs 41\n",
      "# POS TRAJs 42\n",
      "# POS TRAJs 43\n",
      "# POS TRAJs 44\n",
      "# POS TRAJs 45\n",
      "# POS TRAJs 46\n",
      "# POS TRAJs 47\n",
      "# POS TRAJs 48\n",
      "# POS TRAJs 49\n",
      "# POS TRAJs 50\n",
      "----------------------------\n",
      "Number of trajectories generated:\n",
      "+1 trajs: 50\n",
      "-1 trajs: 10\n",
      "----------------------------\n"
     ]
    }
   ],
   "source": [
    "# Generate offline data for the training\n",
    "num_episodes_dyna = 2\n",
    "num_agents_dyna = 5\n",
    "max_traj_len = 10\n",
    "num_pos_trajs = 50\n",
    "num_neg_trajs = 10\n",
    "offline_data = generate_offline_data(env, agent, num_episodes_dyna, num_agents_dyna, max_traj_len, num_pos_trajs, num_neg_trajs)\n",
    "\n",
    "#####"
   ]
  },
  {
   "cell_type": "code",
   "execution_count": 6,
   "id": "00ce75db",
   "metadata": {},
   "outputs": [],
   "source": [
    "## If you are planning to pickle these trajectories and use them instead of generating them every time...\n",
    "# results_save_dir = './gridworld_results/grid_7by7/'\n",
    "# with open(os.path.join(results_save_dir, 'offline_traj.pkl'), 'wb') as f:\n",
    "#     pickle.dump(offline_data, f)\n",
    "\n",
    "# with open(os.path.join(results_save_dir, 'offline_traj.pkl'), 'rb') as f:\n",
    "#     offline_data = pickle.load(f)"
   ]
  },
  {
   "cell_type": "code",
   "execution_count": 8,
   "id": "7831399d",
   "metadata": {},
   "outputs": [
    {
     "data": {
      "image/png": "[encoded data removed]",
      "text/plain": [
       "<Figure size 144x144 with 1 Axes>"
      ]
     },
     "metadata": {
      "needs_background": "light"
     },
     "output_type": "display_data"
    }
   ],
   "source": [
    "# Plot a trajectory to check if the data has been correctly formed\n",
    "env.plot_traj(offline_data[-1])"
   ]
  },
  {
   "cell_type": "markdown",
   "id": "e4c0c94c",
   "metadata": {},
   "source": [
    "## Sequential Encoder\n",
    "\n",
    "We use sequential encoder to parse the offline data and create clusters of the trajectories which will be used for attributing the decisions in the later steps."
   ]
  },
  {
   "cell_type": "code",
   "execution_count": 14,
   "id": "25035b6b",
   "metadata": {},
   "outputs": [],
   "source": [
    "def tokenizer(trajectories, state_space_dim, action_dict, reward_dict, max_traj_len = 25):\n",
    "    \"\"\"\n",
    "        Tokenizer for capturing gridworld trajectories\n",
    "    \"\"\"\n",
    "\n",
    "    action_space_dim = len(action_dict)\n",
    "    reward_set_dim = len(reward_dict)\n",
    "    \n",
    "    # TOKEN IDs\n",
    "    # 1 START TOKEN\n",
    "    # 2 END TOKEN\n",
    "    # 0 PAD TOKEN\n",
    "    # STATE TOKENs\n",
    "    # ACTION TOKENs\n",
    "    # REWARD TOKENs\n",
    "    \n",
    "    complete_traj_tokens = []\n",
    "    \n",
    "    for traj in trajectories:\n",
    "\n",
    "        # Traj contains (s,a,r,s')\n",
    "        # We generate tokens for 's', 'a' and 'r'\n",
    "        \n",
    "        traj_tokens = []\n",
    "        \n",
    "        # Start token\n",
    "        traj_tokens.append(1)\n",
    "        \n",
    "        for sars_ in traj:\n",
    "            s = sars_[0]\n",
    "            a = sars_[1]\n",
    "            r = sars_[2]\n",
    "\n",
    "            # State\n",
    "            traj_tokens.append(3 + s)\n",
    "            \n",
    "            # Action\n",
    "            traj_tokens.append(3 + state_space_dim + a)\n",
    "            \n",
    "            # Reward\n",
    "            traj_tokens.append(3 + state_space_dim + action_space_dim + reward_dict[r])\n",
    "\n",
    "        # Remove action and reward for terminal state, TO BE USED ONLY when (s_terminal, a_random, reward = 0, s_terminal) exists at the end of trajectory data\n",
    "        traj_tokens.pop()\n",
    "        traj_tokens.pop()\n",
    "        \n",
    "        # End token\n",
    "        traj_tokens.append(2)\n",
    "        \n",
    "        # Pad with zero tokens\n",
    "        if max_traj_len + 3 - len(traj) > 0:\n",
    "            traj_tokens = traj_tokens + [0]*(3*(max_traj_len + 3 - len(traj)))\n",
    "        \n",
    "        complete_traj_tokens.append(torch.LongTensor(traj_tokens))\n",
    "    \n",
    "    return complete_traj_tokens\n",
    "\n",
    "vocab_size = 3 + env_width*env_height + len(action_dict) + len(reward_dict)\n",
    "\n",
    "tokenized_data = tokenizer(offline_data, \n",
    "                          state_space_dim = env_width*env_height, \n",
    "                          action_dict = action_dict, \n",
    "                          reward_dict = reward_dict, \n",
    "                          max_traj_len = max_traj_len)"
   ]
  },
  {
   "cell_type": "code",
   "execution_count": 10,
   "id": "52aeb815",
   "metadata": {},
   "outputs": [],
   "source": [
    "class LSTMEncoder(nn.Module):\n",
    "    def __init__(self, embedding_dim, vocab_size, hidden_size):\n",
    "        super(LSTMEncoder, self).__init__()\n",
    "        self.hidden_size = hidden_size\n",
    "        self.token_embeddings = nn.Embedding(vocab_size, embedding_dim)\n",
    "        self.lstm = nn.LSTM(embedding_dim, hidden_size)\n",
    "\n",
    "    def forward(self, traj):\n",
    "        embeds = self.token_embeddings(traj)\n",
    "        o, (h_n, c_n) = self.lstm(embeds.view(len(traj), 1, -1)) # Batch first is false, -> Input shape (L(seq len), N(num seq), H_in(hidden size))\n",
    "        # The LSTM output contains :\n",
    "        # o - Outputs of individual cells : shape (L, N, H)\n",
    "        # h_n - Final hidden state\n",
    "        # c_n - Final cell state\n",
    "        return o[-1], (h_n, c_n)\n",
    "    \n",
    "class LSTMDecoder(nn.Module):\n",
    "    def __init__(self, embedding_size, hidden_size, vocab_size):\n",
    "        super(LSTMDecoder, self).__init__()\n",
    "        self.hidden_size = hidden_size\n",
    "        self.embedding = nn.Embedding(num_embeddings=vocab_size,\n",
    "                                      embedding_dim=embedding_size,\n",
    "                                      )\n",
    "\n",
    "        self.lstm = nn.LSTM(embedding_size, hidden_size)\n",
    "        self.out = nn.Linear(hidden_size, vocab_size)\n",
    "\n",
    "    def forward(self, input, hidden_state, cell_state):\n",
    "        # Input is START TOKEN\n",
    "        # Hidden state, Cell state are taken from encoder's output\n",
    "\n",
    "        # Get embedding\n",
    "        embedded = self.embedding(input)        \n",
    "        output = embedded.view(len(input), 1, -1)\n",
    "        \n",
    "        # Run LSTM to decode the trajectory\n",
    "        output, _ = self.lstm(output, (hidden_state, cell_state))\n",
    "        \n",
    "        # Convert LSTM logits to vocab size softmax \n",
    "        out = self.out(output.squeeze(1))\n",
    "        output = F.log_softmax(out, dim=1)\n",
    "        \n",
    "        return output\n",
    "\n",
    "class Seq2Seq(nn.Module):\n",
    "    \n",
    "    def __init__(self, encoder, decoder):\n",
    "        super(Seq2Seq, self).__init__()\n",
    "        self.encoder = encoder\n",
    "        self.decoder = decoder\n",
    "    \n",
    "    def forward(self, traj):\n",
    "        traj_embedding = self.encoder(traj[1:])\n",
    "        decoded_traj = self.decoder(traj[:-1], traj_embedding[1][0], traj_embedding[1][1])\n",
    "        return decoded_traj, traj_embedding\n",
    "\n",
    "traj_encoder = LSTMEncoder(embedding_dim=16, vocab_size= vocab_size, hidden_size=32)\n",
    "traj_decoder = LSTMDecoder(embedding_size=16, hidden_size=32, vocab_size=vocab_size)\n",
    "\n",
    "model = Seq2Seq(traj_encoder, traj_decoder)\n"
   ]
  },
  {
   "cell_type": "markdown",
   "id": "51c95541",
   "metadata": {},
   "source": [
    "## Training LSTM to encode trajectories in a seq2seq setting"
   ]
  },
  {
   "cell_type": "code",
   "execution_count": 16,
   "id": "5ddb1c8e",
   "metadata": {},
   "outputs": [
    {
     "name": "stderr",
     "output_type": "stream",
     "text": [
      "/home/bart/.local/lib/python3.8/site-packages/tqdm/auto.py:22: TqdmWarning: IProgress not found. Please update jupyter and ipywidgets. See https://ipywidgets.readthedocs.io/en/stable/user_install.html\n",
      "  from .autonotebook import tqdm as notebook_tqdm\n",
      "/usr/lib/python3/dist-packages/requests/__init__.py:89: RequestsDependencyWarning: urllib3 (1.26.15) or chardet (3.0.4) doesn't match a supported version!\n",
      "  warnings.warn(\"urllib3 ({}) or chardet ({}) doesn't match a supported \"\n"
     ]
    }
   ],
   "source": [
    "# Hyperparameters \n",
    "num_epochs = 25\n",
    "\n",
    "# Optimizer\n",
    "optimizer = torch.optim.SGD(model.parameters(), lr=1)"
   ]
  },
  {
   "cell_type": "code",
   "execution_count": 17,
   "id": "c97023cf",
   "metadata": {
    "code_folding": [],
    "scrolled": false
   },
   "outputs": [
    {
     "name": "stdout",
     "output_type": "stream",
     "text": [
      "Epoch: 1, Loss:1.1134034940600395\n",
      "Epoch: 2, Loss:0.5122087524086237\n",
      "Epoch: 3, Loss:0.3917906180769205\n",
      "Epoch: 4, Loss:0.316581888794899\n",
      "Epoch: 5, Loss:0.2592673226073384\n",
      "Epoch: 6, Loss:0.21838151628151536\n",
      "Epoch: 7, Loss:0.19150855569168926\n",
      "Epoch: 8, Loss:0.17201256409287452\n",
      "Epoch: 9, Loss:0.15872543971985578\n",
      "Epoch: 10, Loss:0.1465335218422115\n",
      "Epoch: 11, Loss:0.13742543863132595\n",
      "Epoch: 12, Loss:0.13037896441295743\n",
      "Epoch: 13, Loss:0.12498237961903215\n",
      "Epoch: 14, Loss:0.11977097304537893\n",
      "Epoch: 15, Loss:0.11483609201386571\n",
      "Epoch: 16, Loss:0.11197393388487399\n",
      "Epoch: 17, Loss:0.10809583373367787\n",
      "Epoch: 18, Loss:0.10566937479190529\n",
      "Epoch: 19, Loss:0.10394332399591803\n",
      "Epoch: 20, Loss:0.10157712294720113\n",
      "Epoch: 21, Loss:0.10018665765412152\n",
      "Epoch: 22, Loss:0.09885948961600662\n",
      "Epoch: 23, Loss:0.09703109441325068\n",
      "Epoch: 24, Loss:0.09607992632314563\n",
      "Epoch: 25, Loss:0.09503688703291119\n"
     ]
    }
   ],
   "source": [
    "model.train()\n",
    "\n",
    "for epoch_id, epoch in enumerate(range(num_epochs)):\n",
    "    total_loss = 0\n",
    "    for traj_id, traj in enumerate(tokenized_data):\n",
    "        optimizer.zero_grad()\n",
    "        \n",
    "        # Get decoded trajectory and its embedding\n",
    "        decoded_traj, traj_embedding = model(traj)\n",
    "        # Loss\n",
    "        loss = F.nll_loss(decoded_traj.view(-1, vocab_size),\n",
    "                          traj[1:].contiguous().view(-1),\n",
    "                          ignore_index=0)\n",
    "        \n",
    "        # Optimize the model\n",
    "        loss.backward()\n",
    "        torch.nn.utils.clip_grad_norm_(model.parameters(), 10)\n",
    "        optimizer.step()\n",
    "        \n",
    "        # Record loss\n",
    "        total_loss += loss.data.item()\n",
    "\n",
    "    total_loss = total_loss / 100\n",
    "    \n",
    "    print(f'Epoch: {epoch_id + 1}, Loss:{total_loss}')"
   ]
  },
  {
   "cell_type": "code",
   "execution_count": 18,
   "id": "4cd4f941",
   "metadata": {},
   "outputs": [],
   "source": [
    "# torch.save(model.state_dict(), './ckpt_save_dir/seq2seq_traj_5.pth')\n",
    "# torch.save(model.state_dict(), './ckpt_save_dir/seq2seq_traj_fourrooms.pth')\n",
    "torch.save(model.state_dict(), './ckpt_save_dir/seq2seq_traj_7.pth')"
   ]
  },
  {
   "cell_type": "markdown",
   "id": "d869dc94",
   "metadata": {},
   "source": [
    "## Trajectory Attribution \n",
    "\n",
    "Starts here..."
   ]
  },
  {
   "cell_type": "code",
   "execution_count": 19,
   "id": "31f3c64f",
   "metadata": {},
   "outputs": [
    {
     "data": {
      "text/plain": [
       "<All keys matched successfully>"
      ]
     },
     "execution_count": 19,
     "metadata": {},
     "output_type": "execute_result"
    }
   ],
   "source": [
    "# Load the trained model\n",
    "traj_encoder = LSTMEncoder(embedding_dim=16, vocab_size= vocab_size, hidden_size=32)\n",
    "traj_decoder = LSTMDecoder(embedding_size=16, hidden_size=32, vocab_size=vocab_size)\n",
    "\n",
    "model = Seq2Seq(traj_encoder, traj_decoder)\n",
    "# model.load_state_dict(torch.load('./ckpt_save_dir/seq2seq_traj_5.pth'))\n",
    "# model.load_state_dict(torch.load('./ckpt_save_dir/seq2seq_traj_fourrooms.pth'))\n",
    "model.load_state_dict(torch.load('./ckpt_save_dir/seq2seq_traj_7.pth'))"
   ]
  },
  {
   "cell_type": "markdown",
   "id": "62b2fbd0",
   "metadata": {},
   "source": [
    "### Encode trajectories in the offline dataset"
   ]
  },
  {
   "cell_type": "code",
   "execution_count": 20,
   "id": "c587a2f8",
   "metadata": {},
   "outputs": [],
   "source": [
    "# Load and generate trajectory embeddings\n",
    "traj_embeddings = []\n",
    "\n",
    "for traj_id, traj in enumerate(tokenized_data):\n",
    "    with torch.no_grad():\n",
    "        decoded_traj, traj_embedding = model(traj)\n",
    "        traj_embeddings.append(torch.cat(traj_embedding[1], axis=-1).numpy().reshape(-1))\n",
    "        "
   ]
  },
  {
   "cell_type": "markdown",
   "id": "2ea1140f",
   "metadata": {},
   "source": [
    "### PCA analysis of the trajectory embeddings"
   ]
  },
  {
   "cell_type": "code",
   "execution_count": 21,
   "id": "19940251",
   "metadata": {},
   "outputs": [
    {
     "data": {
      "image/png": "[encoded data removed]",
      "text/plain": [
       "<Figure size 432x288 with 1 Axes>"
      ]
     },
     "metadata": {
      "needs_background": "light"
     },
     "output_type": "display_data"
    }
   ],
   "source": [
    "pca = PCA(n_components=2)\n",
    "pca_traj_embeddings = pca.fit_transform(traj_embeddings)\n",
    "plotting_data = {'feature 1': pca_traj_embeddings[:, 0], 'feature 2': pca_traj_embeddings[:, 1],\n",
    "                 'rewards': [+1] * num_pos_trajs + [-1] * num_neg_trajs}\n",
    "df = pd.DataFrame(plotting_data)\n",
    "\n",
    "plt.figure()\n",
    "sns.scatterplot(x='feature 1', y='feature 2', hue='rewards', data=df)\n",
    "# plt.title('PCA: Trajectory Embeddings')\n",
    "# plt.legend()\n",
    "plt.show()\n",
    "\n",
    "# plt.figure()\n",
    "# data_ax = sns.scatterplot(x='x',\n",
    "#                           y='y',\n",
    "#                           hue='labels',\n",
    "#                           palette='deep',\n",
    "#                           data=df,\n",
    "#                           legend=True)\n",
    "# for cid, _ in enumerate(cluster_data_embeds):\n",
    "#     data_ax.text(pca_data_embeds[:, 0][cid],\n",
    "#                  pca_data_embeds[:, 1][cid],\n",
    "#                  str(cid),\n",
    "#                  horizontalalignment='left',\n",
    "#                  size='medium',\n",
    "#                  color='black',\n",
    "#                  weight='semibold')\n",
    "# plt.title('PCA: Cluster Embeddings using ' + embed_gen_config['method_name'])\n",
    "# plt.show()"
   ]
  },
  {
   "cell_type": "markdown",
   "id": "0cb772d9",
   "metadata": {},
   "source": [
    "### Clustering of the trajectories using X-Means"
   ]
  },
  {
   "cell_type": "code",
   "execution_count": 22,
   "id": "3e427823",
   "metadata": {
    "scrolled": false
   },
   "outputs": [
    {
     "name": "stdout",
     "output_type": "stream",
     "text": [
      "Total WCE: 2.332435263815616\n",
      "Clusters: [[26, 50], [27, 28, 29, 30, 31, 32, 33, 34, 35], [36, 37], [0, 1, 2, 3, 4, 5, 6, 7, 8, 9, 10, 11, 12, 13, 14, 15, 16, 17, 18, 19, 20, 21, 22, 23, 24, 25], [51, 52, 53, 54, 55, 56, 57, 58, 59], [38, 39], [40, 41], [42, 43, 48, 49], [44, 45, 47], [46]]\n",
      "Number of clusters 10\n"
     ]
    }
   ],
   "source": [
    "\n",
    "# Prepare initial centers - amount of initial centers defines amount of clusters from which X-Means will\n",
    "# start analysis.\n",
    "amount_initial_centers = 2\n",
    "initial_centers = kmeans_plusplus_initializer(traj_embeddings, amount_initial_centers).initialize()\n",
    " \n",
    "# Create instance of X-Means algorithm. The algorithm will start analysis from 2 clusters, the maximum\n",
    "# number of clusters that can be allocated is 10.\n",
    "xmeans_instance = xmeans(traj_embeddings, initial_centers, 10)\n",
    "xmeans_instance.process()\n",
    " \n",
    "# Extract clustering results: clusters and their centers\n",
    "clusters = xmeans_instance.get_clusters()\n",
    "centers = xmeans_instance.get_centers()\n",
    " \n",
    "# Print total sum of metric errors\n",
    "print(\"Total WCE:\", xmeans_instance.get_total_wce())\n",
    "print(\"Clusters:\", clusters)\n",
    "print('Number of clusters', len(clusters))"
   ]
  },
  {
   "cell_type": "code",
   "execution_count": 17,
   "id": "a7940cdf",
   "metadata": {},
   "outputs": [],
   "source": [
    "# for cluster_id, cluster in enumerate(clusters):\n",
    "#     print('-'*10)\n",
    "#     print('Cluster ID', cluster_id)\n",
    "#     for traj_id in cluster:\n",
    "#         env.plot_traj(offline_data[traj_id])    \n",
    "#     print('-'*10)"
   ]
  },
  {
   "cell_type": "code",
   "execution_count": 23,
   "id": "4d6dfec8",
   "metadata": {},
   "outputs": [],
   "source": [
    "traj_cluster_labels = np.zeros(len(traj_embeddings), dtype=int)\n",
    "\n",
    "for cluster_id, cluster in enumerate(clusters):\n",
    "    for traj_id in cluster:\n",
    "        traj_cluster_labels[traj_id] = cluster_id\n"
   ]
  },
  {
   "cell_type": "code",
   "execution_count": 24,
   "id": "edeac10f",
   "metadata": {
    "scrolled": true
   },
   "outputs": [
    {
     "data": {
      "text/html": [
       "<svg  width=\"605\" height=\"55\"><rect x=\"0\" y=\"0\" width=\"55\" height=\"55\" style=\"fill:#f77189;stroke-width:2;stroke:rgb(255,255,255)\"/><rect x=\"55\" y=\"0\" width=\"55\" height=\"55\" style=\"fill:#e18632;stroke-width:2;stroke:rgb(255,255,255)\"/><rect x=\"110\" y=\"0\" width=\"55\" height=\"55\" style=\"fill:#b59a32;stroke-width:2;stroke:rgb(255,255,255)\"/><rect x=\"165\" y=\"0\" width=\"55\" height=\"55\" style=\"fill:#8ba731;stroke-width:2;stroke:rgb(255,255,255)\"/><rect x=\"220\" y=\"0\" width=\"55\" height=\"55\" style=\"fill:#32b258;stroke-width:2;stroke:rgb(255,255,255)\"/><rect x=\"275\" y=\"0\" width=\"55\" height=\"55\" style=\"fill:#35ae95;stroke-width:2;stroke:rgb(255,255,255)\"/><rect x=\"330\" y=\"0\" width=\"55\" height=\"55\" style=\"fill:#37abb2;stroke-width:2;stroke:rgb(255,255,255)\"/><rect x=\"385\" y=\"0\" width=\"55\" height=\"55\" style=\"fill:#39a7d6;stroke-width:2;stroke:rgb(255,255,255)\"/><rect x=\"440\" y=\"0\" width=\"55\" height=\"55\" style=\"fill:#8f93f4;stroke-width:2;stroke:rgb(255,255,255)\"/><rect x=\"495\" y=\"0\" width=\"55\" height=\"55\" style=\"fill:#db70f4;stroke-width:2;stroke:rgb(255,255,255)\"/><rect x=\"550\" y=\"0\" width=\"55\" height=\"55\" style=\"fill:#f667c6;stroke-width:2;stroke:rgb(255,255,255)\"/></svg>"
      ],
      "text/plain": [
       "[(0.9677975592919913, 0.44127456009157356, 0.5358103155058701),\n",
       " (0.8836443049112893, 0.5240073524369634, 0.19569304285113343),\n",
       " (0.710130687316902, 0.6046852192663268, 0.19426060163712158),\n",
       " (0.5432776721247529, 0.6540981095185215, 0.19324494273892204),\n",
       " (0.19592059105779686, 0.6981620017487838, 0.3452219818913641),\n",
       " (0.2067117296964458, 0.6829103404254792, 0.5829988925822328),\n",
       " (0.21420912437215422, 0.6714963557258681, 0.6986206664203177),\n",
       " (0.22537170008202412, 0.6531400148480775, 0.841007805313343),\n",
       " (0.5596943802099308, 0.5764402169887779, 0.9583930713150347),\n",
       " (0.8578978803740231, 0.44058452715322166, 0.957819659566579),\n",
       " (0.9628653850704806, 0.4025928454059796, 0.7779310354076443)]"
      ]
     },
     "execution_count": 24,
     "metadata": {},
     "output_type": "execute_result"
    }
   ],
   "source": [
    "palette = sns.color_palette('husl', len(clusters) + 1)\n",
    "palette"
   ]
  },
  {
   "cell_type": "code",
   "execution_count": 25,
   "id": "44be940b",
   "metadata": {},
   "outputs": [
    {
     "data": {
      "image/png": "[encoded data removed]",
      "text/plain": [
       "<Figure size 288x216 with 1 Axes>"
      ]
     },
     "metadata": {
      "needs_background": "light"
     },
     "output_type": "display_data"
    }
   ],
   "source": [
    "# cluster_data_embeds = [result_data_combinations[cid][1] for cid in result_data_combinations]\n",
    "# cluster_data_embeds.pop(0)\n",
    "\n",
    "pca_traj = PCA(n_components=2)\n",
    "pca_traj_embeds = pca_traj.fit_transform(traj_embeddings)\n",
    "plotting_data = {'feature 1': pca_traj_embeds[:, 0],\n",
    "                 'feature 2': pca_traj_embeds[:, 1],\n",
    "                 'cluster id': traj_cluster_labels}\n",
    "df = pd.DataFrame(plotting_data)\n",
    "\n",
    "plt.figure(figsize=(4,3))\n",
    "data_ax = sns.scatterplot(x='feature 1',\n",
    "                          y='feature 2',\n",
    "                          hue='cluster id',\n",
    "                          palette=palette[:len(clusters)],\n",
    "                          data=df,\n",
    "                          legend=True)\n",
    "plt.legend(title = '$c_{j}$', loc='lower center', bbox_to_anchor=(0.5, 1.05), ncol=5)\n",
    "# plt.legend(title = '$c_{j}$', loc='center left', bbox_to_anchor=(1., 0.7), ncol=2)\n",
    "# for cid, _ in enumerate(cluster_data_embeds):\n",
    "#     data_ax.text(pca_data_embeds[:, 0][cid],\n",
    "#                  pca_data_embeds[:, 1][cid],\n",
    "#                  str(cid),\n",
    "#                  horizontalalignment='left',\n",
    "#                  size='medium',\n",
    "#                  color='black',\n",
    "#                  weight='semibold')\n",
    "plt.tight_layout()\n",
    "plt.savefig('./traj_clustering_grid.pdf')\n",
    "plt.show()"
   ]
  },
  {
   "cell_type": "markdown",
   "id": "61fa487a",
   "metadata": {},
   "source": [
    "## Encode sets of trajectories"
   ]
  },
  {
   "cell_type": "code",
   "execution_count": 26,
   "id": "b966e6a5",
   "metadata": {},
   "outputs": [],
   "source": [
    "def get_data_embedding(traj_embeddings):\n",
    "#     return np.exp(np.abs(np.array(traj_embeddings).sum(axis=0)/100.))/np.sum(np.abs(np.exp(np.array(traj_embeddings).sum(axis=0)/100.)))\n",
    "    return np.exp(np.array(traj_embeddings).sum(axis=0)/10.)/np.sum(np.exp(np.array(traj_embeddings).sum(axis=0)/10.))\n",
    "\n",
    "data_embedding = get_data_embedding(traj_embeddings)"
   ]
  },
  {
   "cell_type": "markdown",
   "id": "288f18b4",
   "metadata": {},
   "source": [
    "### Train models on different cluster combinations"
   ]
  },
  {
   "cell_type": "code",
   "execution_count": 27,
   "id": "2a1ecc31",
   "metadata": {},
   "outputs": [],
   "source": [
    "transition_model, reward_model = generate_model(env, offline_data)\n",
    "values, action_values, policy = dp(env, transition_model, reward_model, gamma=0.95, threshold=1e-4)"
   ]
  },
  {
   "cell_type": "code",
   "execution_count": 28,
   "id": "dd6cb2b0",
   "metadata": {
    "scrolled": true
   },
   "outputs": [],
   "source": [
    "result_data_combinations = {0:(action_values, data_embedding)}\n",
    "cluster_embeddings = {}\n",
    "\n",
    "for cluster_id, cluster in enumerate(clusters):\n",
    "    temp_data = []\n",
    "    temp_traj_embeds = []\n",
    "    temp_cluster_traj_embeds = []\n",
    "    for traj_id, traj in enumerate(offline_data):\n",
    "        if traj_id not in cluster:\n",
    "            temp_data.append(offline_data[traj_id])\n",
    "            temp_traj_embeds.append(traj_embeddings[traj_id])\n",
    "        else:\n",
    "            temp_cluster_traj_embeds.append(traj_embeddings[traj_id])\n",
    "            \n",
    "    # Generate the data embedding\n",
    "    data_embedding_new = get_data_embedding(temp_traj_embeds)\n",
    "    \n",
    "    # Generate cluster embedding\n",
    "    cluster_embedding = get_data_embedding(temp_cluster_traj_embeds)\n",
    "    \n",
    "    # Train an agent on the new data\n",
    "    transition_model_new, reward_model_new = generate_model(env, temp_data)\n",
    "    values_new, action_values_new, policy_new = dp(env,\n",
    "                                                   transition_model_new,\n",
    "                                                   reward_model_new,\n",
    "                                                   gamma=0.95,\n",
    "                                                   threshold=1e-4)\n",
    "    \n",
    "    # Collect the data embedding and the trajectory\n",
    "    result_data_combinations[cluster_id + 1] = (action_values_new, data_embedding_new)\n",
    "    cluster_embeddings[cluster_id] = cluster_embedding"
   ]
  },
  {
   "cell_type": "markdown",
   "id": "d276f566",
   "metadata": {},
   "source": [
    "### Generate attributions"
   ]
  },
  {
   "cell_type": "code",
   "execution_count": 29,
   "id": "38d0d1bd",
   "metadata": {
    "scrolled": true
   },
   "outputs": [
    {
     "name": "stdout",
     "output_type": "stream",
     "text": [
      "----------\n",
      "State - (5, 2)\n",
      "Distance - 3.5063976611127146e-07\n",
      "Original Actions -['UP']\n",
      "New Action - ['RIGHT']\n",
      "Responsible data combination - data id 3\n",
      "Responsible trajectory id [36, 37]\n",
      "----------\n",
      "----------\n",
      "State - (1, 3)\n",
      "Distance - 3.5063976611127146e-07\n",
      "Original Actions -['UP']\n",
      "New Action - ['RIGHT']\n",
      "Responsible data combination - data id 3\n",
      "Responsible trajectory id [36, 37]\n",
      "----------\n",
      "----------\n",
      "State - (5, 3)\n",
      "Distance - 3.5063976611127146e-07\n",
      "Original Actions -['UP']\n",
      "New Action - ['RIGHT']\n",
      "Responsible data combination - data id 3\n",
      "Responsible trajectory id [36, 37]\n",
      "----------\n",
      "----------\n",
      "State - (6, 3)\n",
      "Distance - 3.5063976611127146e-07\n",
      "Original Actions -['UP']\n",
      "New Action - ['RIGHT']\n",
      "Responsible data combination - data id 3\n",
      "Responsible trajectory id [36, 37]\n",
      "----------\n",
      "----------\n",
      "State - (3, 5)\n",
      "Distance - 3.6992291825299617e-06\n",
      "Original Actions -['DOWN']\n",
      "New Action - ['LEFT', 'UP', 'DOWN']\n",
      "Responsible data combination - data id 1\n",
      "Responsible trajectory id [26, 50]\n",
      "----------\n"
     ]
    }
   ],
   "source": [
    "attributions = []\n",
    "\n",
    "for state in range(np.prod(env.dim)):\n",
    "    \n",
    "    if (state//env_width, state%env_width) in env.terminals:\n",
    "        continue\n",
    "        \n",
    "    orig_state_action_values = action_values[state]\n",
    "    orig_opt_state_actions = np.where(orig_state_action_values == np.max(orig_state_action_values))[0]\n",
    "\n",
    "    distances = []\n",
    "    new_actions = []\n",
    "    for data_combination_id, (action_values_new, data_embedding_new) in result_data_combinations.items():\n",
    "        new_state_action_values = action_values_new[state]\n",
    "        new_opt_state_actions = np.where(new_state_action_values == np.max(new_state_action_values))[0]\n",
    "\n",
    "        if list(new_opt_state_actions) != list(orig_opt_state_actions):\n",
    "            w_d = wasserstein_distance(data_embedding, data_embedding_new)\n",
    "        else:\n",
    "            w_d = 1e9\n",
    "        \n",
    "        distances.append(w_d)\n",
    "        new_actions.append(new_opt_state_actions)\n",
    "    \n",
    "    responsible_data_combination = np.argsort(distances)[0]\n",
    "    \n",
    "    if distances[responsible_data_combination] == 1e9 or distances[responsible_data_combination] == 0:\n",
    "        continue\n",
    "    \n",
    "    print('-'*10)\n",
    "    print(f'State - {state%env_width + 1, state//env_width + 1}')\n",
    "    print(f'Distance - {distances[responsible_data_combination]}')\n",
    "    print(f'Original Actions -{[action_dict[orig_action] for orig_action in orig_opt_state_actions]}')\n",
    "    print(f'New Action - {[action_dict[new_action] for new_action in new_actions[responsible_data_combination]]}')\n",
    "\n",
    "    print(f'Responsible data combination - data id {responsible_data_combination}')\n",
    "    print(f'Responsible trajectory id {clusters[responsible_data_combination - 1]}')\n",
    "    if len(clusters[responsible_data_combination - 1]):\n",
    "        cid_list = list(range(len(clusters)))\n",
    "        cid_list.pop(responsible_data_combination - 1)\n",
    "        alternate_cid = np.random.choice(cid_list)\n",
    "        attributions.append({\n",
    "            'state' : (state%env_width + 1, state//env_width + 1),\n",
    "            'orig_act': [action_dict[orig_action] for orig_action in orig_opt_state_actions],\n",
    "            'new_act': [action_dict[new_action] for new_action in new_actions[responsible_data_combination]],\n",
    "            'attributed_trajs':clusters[responsible_data_combination - 1],\n",
    "            'random_baseline_trajs': list(np.random.randint(0, len(offline_data), 5)),\n",
    "            'alternate_cluster_trajs': clusters[alternate_cid - 1],\n",
    "            'responsible_cluster': responsible_data_combination - 1\n",
    "        })\n",
    "#         for traj in clusters[responsible_data_combination - 1]:\n",
    "#             env.plot_traj(offline_data[traj])\n",
    "    print('-'*10)"
   ]
  },
  {
   "cell_type": "code",
   "execution_count": 30,
   "id": "817f4cef",
   "metadata": {
    "scrolled": true
   },
   "outputs": [
    {
     "data": {
      "text/plain": [
       "[{'state': (5, 2),\n",
       "  'orig_act': ['UP'],\n",
       "  'new_act': ['RIGHT'],\n",
       "  'attributed_trajs': [36, 37],\n",
       "  'random_baseline_trajs': [20, 40, 1, 32, 52],\n",
       "  'alternate_cluster_trajs': [0,\n",
       "   1,\n",
       "   2,\n",
       "   3,\n",
       "   4,\n",
       "   5,\n",
       "   6,\n",
       "   7,\n",
       "   8,\n",
       "   9,\n",
       "   10,\n",
       "   11,\n",
       "   12,\n",
       "   13,\n",
       "   14,\n",
       "   15,\n",
       "   16,\n",
       "   17,\n",
       "   18,\n",
       "   19,\n",
       "   20,\n",
       "   21,\n",
       "   22,\n",
       "   23,\n",
       "   24,\n",
       "   25],\n",
       "  'responsible_cluster': 2},\n",
       " {'state': (1, 3),\n",
       "  'orig_act': ['UP'],\n",
       "  'new_act': ['RIGHT'],\n",
       "  'attributed_trajs': [36, 37],\n",
       "  'random_baseline_trajs': [36, 22, 17, 24, 42],\n",
       "  'alternate_cluster_trajs': [51, 52, 53, 54, 55, 56, 57, 58, 59],\n",
       "  'responsible_cluster': 2},\n",
       " {'state': (5, 3),\n",
       "  'orig_act': ['UP'],\n",
       "  'new_act': ['RIGHT'],\n",
       "  'attributed_trajs': [36, 37],\n",
       "  'random_baseline_trajs': [34, 31, 21, 41, 0],\n",
       "  'alternate_cluster_trajs': [42, 43, 48, 49],\n",
       "  'responsible_cluster': 2},\n",
       " {'state': (6, 3),\n",
       "  'orig_act': ['UP'],\n",
       "  'new_act': ['RIGHT'],\n",
       "  'attributed_trajs': [36, 37],\n",
       "  'random_baseline_trajs': [29, 31, 2, 37, 46],\n",
       "  'alternate_cluster_trajs': [42, 43, 48, 49],\n",
       "  'responsible_cluster': 2},\n",
       " {'state': (3, 5),\n",
       "  'orig_act': ['DOWN'],\n",
       "  'new_act': ['LEFT', 'UP', 'DOWN'],\n",
       "  'attributed_trajs': [26, 50],\n",
       "  'random_baseline_trajs': [56, 10, 26, 20, 21],\n",
       "  'alternate_cluster_trajs': [26, 50],\n",
       "  'responsible_cluster': 0}]"
      ]
     },
     "execution_count": 30,
     "metadata": {},
     "output_type": "execute_result"
    }
   ],
   "source": [
    "attributions"
   ]
  },
  {
   "cell_type": "code",
   "execution_count": 31,
   "id": "6800d5af",
   "metadata": {
    "scrolled": true
   },
   "outputs": [],
   "source": [
    "results_save_dir = './gridworld_results/grid_7by7/'\n",
    "if not os.path.exists(results_save_dir):\n",
    "    os.makedirs(results_save_dir)\n",
    "\n",
    "\n",
    "# for traj_id, traj in enumerate(offline_data):\n",
    "#     env.plot_traj(traj, path=os.path.join(results_save_dir, 'traj_' + str(traj_id) + '.png'))\n"
   ]
  },
  {
   "cell_type": "code",
   "execution_count": 32,
   "id": "4c8072b1",
   "metadata": {},
   "outputs": [],
   "source": [
    "class NumpyEncoder(json.JSONEncoder):\n",
    "    \"\"\" Special json encoder for numpy types \"\"\"\n",
    "    def default(self, obj):\n",
    "        if isinstance(obj, np.integer):\n",
    "            return int(obj)\n",
    "        elif isinstance(obj, np.floating):\n",
    "            return float(obj)\n",
    "        elif isinstance(obj, np.ndarray):\n",
    "            return obj.tolist()\n",
    "        return json.JSONEncoder.default(self, obj)"
   ]
  },
  {
   "cell_type": "code",
   "execution_count": 33,
   "id": "15b347f8",
   "metadata": {},
   "outputs": [],
   "source": [
    "# Data to save\n",
    "data_to_be_saved = [\n",
    "    {\n",
    "        'attributions' : attributions,\n",
    "    }\n",
    "]\n",
    "\n",
    "dumped = json.dumps(data_to_be_saved, cls=NumpyEncoder)\n",
    "\n",
    "with open(os.path.join(results_save_dir, 'attribution_results.json'), 'w') as f:\n",
    "    json.dump(dumped, f)"
   ]
  },
  {
   "cell_type": "code",
   "execution_count": 34,
   "id": "d8364d4c",
   "metadata": {},
   "outputs": [
    {
     "data": {
      "text/plain": [
       "[{'state': (5, 2),\n",
       "  'orig_act': ['UP'],\n",
       "  'new_act': ['RIGHT'],\n",
       "  'attributed_trajs': [36, 37],\n",
       "  'random_baseline_trajs': [20, 40, 1, 32, 52],\n",
       "  'alternate_cluster_trajs': [0,\n",
       "   1,\n",
       "   2,\n",
       "   3,\n",
       "   4,\n",
       "   5,\n",
       "   6,\n",
       "   7,\n",
       "   8,\n",
       "   9,\n",
       "   10,\n",
       "   11,\n",
       "   12,\n",
       "   13,\n",
       "   14,\n",
       "   15,\n",
       "   16,\n",
       "   17,\n",
       "   18,\n",
       "   19,\n",
       "   20,\n",
       "   21,\n",
       "   22,\n",
       "   23,\n",
       "   24,\n",
       "   25],\n",
       "  'responsible_cluster': 2},\n",
       " {'state': (1, 3),\n",
       "  'orig_act': ['UP'],\n",
       "  'new_act': ['RIGHT'],\n",
       "  'attributed_trajs': [36, 37],\n",
       "  'random_baseline_trajs': [36, 22, 17, 24, 42],\n",
       "  'alternate_cluster_trajs': [51, 52, 53, 54, 55, 56, 57, 58, 59],\n",
       "  'responsible_cluster': 2},\n",
       " {'state': (5, 3),\n",
       "  'orig_act': ['UP'],\n",
       "  'new_act': ['RIGHT'],\n",
       "  'attributed_trajs': [36, 37],\n",
       "  'random_baseline_trajs': [34, 31, 21, 41, 0],\n",
       "  'alternate_cluster_trajs': [42, 43, 48, 49],\n",
       "  'responsible_cluster': 2},\n",
       " {'state': (6, 3),\n",
       "  'orig_act': ['UP'],\n",
       "  'new_act': ['RIGHT'],\n",
       "  'attributed_trajs': [36, 37],\n",
       "  'random_baseline_trajs': [29, 31, 2, 37, 46],\n",
       "  'alternate_cluster_trajs': [42, 43, 48, 49],\n",
       "  'responsible_cluster': 2},\n",
       " {'state': (3, 5),\n",
       "  'orig_act': ['DOWN'],\n",
       "  'new_act': ['LEFT', 'UP', 'DOWN'],\n",
       "  'attributed_trajs': [26, 50],\n",
       "  'random_baseline_trajs': [56, 10, 26, 20, 21],\n",
       "  'alternate_cluster_trajs': [26, 50],\n",
       "  'responsible_cluster': 0}]"
      ]
     },
     "execution_count": 34,
     "metadata": {},
     "output_type": "execute_result"
    }
   ],
   "source": [
    "attributions"
   ]
  },
  {
   "cell_type": "markdown",
   "id": "b05b2899",
   "metadata": {},
   "source": [
    "## Initial State Value Estimates"
   ]
  },
  {
   "cell_type": "code",
   "execution_count": 35,
   "id": "ab0256fa",
   "metadata": {},
   "outputs": [
    {
     "name": "stdout",
     "output_type": "stream",
     "text": [
      "0.3060659590252144\n",
      "0.29898992786229034\n",
      "0.3053346837531249\n",
      "0.30494218511633014\n",
      "0.3055263756872887\n",
      "0.3053627402981008\n",
      "0.3056931872124065\n",
      "0.3045604000586737\n",
      "0.3055472135802795\n",
      "0.30573512572224903\n",
      "0.3045849031386422\n"
     ]
    }
   ],
   "source": [
    "for data_combination_id in result_data_combinations:\n",
    "    print(result_data_combinations[data_combination_id][0].max(axis=1).mean())"
   ]
  },
  {
   "cell_type": "markdown",
   "id": "d3672cbc",
   "metadata": {},
   "source": [
    "## Average delta q"
   ]
  },
  {
   "cell_type": "code",
   "execution_count": 36,
   "id": "8daad673",
   "metadata": {},
   "outputs": [
    {
     "name": "stdout",
     "output_type": "stream",
     "text": [
      "0.0\n",
      "0.03135498662821663\n",
      "0.03957077423279824\n",
      "0.030916303737937023\n",
      "0.001594269230526458\n",
      "0.022436240545849744\n",
      "0.0014251590136341436\n",
      "0.02905105094085611\n",
      "0.027323037163458967\n",
      "0.011757940715016523\n",
      "0.013852997025698508\n"
     ]
    }
   ],
   "source": [
    "for data_combination_id, (action_values_new, data_embedding_new) in result_data_combinations.items(): \n",
    "    print(np.sum(np.abs(action_values_new - result_data_combinations[0][0]))/(env_width*env_height))"
   ]
  },
  {
   "cell_type": "markdown",
   "id": "02ad2689",
   "metadata": {},
   "source": [
    "## Compare the actions"
   ]
  },
  {
   "cell_type": "code",
   "execution_count": 37,
   "id": "9a2a2ef1",
   "metadata": {},
   "outputs": [],
   "source": [
    "action_comparison = {}\n",
    "for data_combination_id, (action_values_new, data_embedding_new) in result_data_combinations.items(): \n",
    "    action_comparison[data_combination_id] = 0\n",
    "    for i in range(env_width*env_height):\n",
    "            orig_actions = np.where(result_data_combinations[0][0][i] == np.max(result_data_combinations[0][0][i]))[0]\n",
    "            alternate_actions = np.where(result_data_combinations[data_combination_id][0][i] == np.max(result_data_combinations[data_combination_id][0][i]))[0]\n",
    "            \n",
    "            if list(orig_actions) == list(alternate_actions):\n",
    "                action_comparison[data_combination_id] += 1 \n",
    "#             alternate_actions = \n",
    "#     print(np.sum(np.argmax(action_values_new, axis=1) != np.argmax(result_data_combinations[0][0], axis=1))/(env_width*env_height))"
   ]
  },
  {
   "cell_type": "code",
   "execution_count": 38,
   "id": "b6e221f9",
   "metadata": {},
   "outputs": [
    {
     "data": {
      "text/plain": [
       "array([1.        , 0.95918367, 0.95918367, 0.85714286, 0.97959184,\n",
       "       0.87755102, 0.97959184, 0.87755102, 1.        , 0.97959184,\n",
       "       0.85714286])"
      ]
     },
     "execution_count": 38,
     "metadata": {},
     "output_type": "execute_result"
    }
   ],
   "source": [
    "np.array(list(action_comparison.values()))/(env_width*env_height)"
   ]
  },
  {
   "cell_type": "markdown",
   "id": "bd3a451f",
   "metadata": {},
   "source": [
    "## Data distances"
   ]
  },
  {
   "cell_type": "code",
   "execution_count": 39,
   "id": "60635973",
   "metadata": {},
   "outputs": [],
   "source": [
    "data_distances = np.zeros(len(result_data_combinations))\n",
    "for data_combination_id, (action_values_new, data_embedding_new) in result_data_combinations.items(): \n",
    "    data_distances[data_combination_id] = wasserstein_distance(data_embedding, data_embedding_new)"
   ]
  },
  {
   "cell_type": "code",
   "execution_count": 40,
   "id": "63eaf731",
   "metadata": {},
   "outputs": [
    {
     "name": "stdout",
     "output_type": "stream",
     "text": [
      "[0.      0.00109 0.00228 0.0001  1.      0.05114 0.00044 0.00063 0.00141\n",
      " 0.00114 0.00042]\n"
     ]
    }
   ],
   "source": [
    "with np.printoptions(precision=5, suppress=True):\n",
    "    print((data_distances - data_distances.min()) / (data_distances.max() - data_distances.min()))"
   ]
  },
  {
   "cell_type": "markdown",
   "id": "e95199ce",
   "metadata": {},
   "source": [
    "## Cluster Attribution Frequency"
   ]
  },
  {
   "cell_type": "code",
   "execution_count": 41,
   "id": "df496967",
   "metadata": {},
   "outputs": [],
   "source": [
    "cluster_attr_freq = np.zeros(len(clusters))"
   ]
  },
  {
   "cell_type": "code",
   "execution_count": 42,
   "id": "711c92ca",
   "metadata": {},
   "outputs": [],
   "source": [
    "for attribution in attributions:\n",
    "    cluster_attr_freq[attribution['responsible_cluster']] += 1 "
   ]
  },
  {
   "cell_type": "code",
   "execution_count": 43,
   "id": "669d9149",
   "metadata": {
    "scrolled": false
   },
   "outputs": [
    {
     "data": {
      "text/plain": [
       "array([0.2, 0. , 0.8, 0. , 0. , 0. , 0. , 0. , 0. , 0. ])"
      ]
     },
     "execution_count": 43,
     "metadata": {},
     "output_type": "execute_result"
    }
   ],
   "source": [
    "cluster_attr_freq/cluster_attr_freq.sum()"
   ]
  },
  {
   "cell_type": "code",
   "execution_count": null,
   "id": "bef9668a",
   "metadata": {},
   "outputs": [],
   "source": []
  }
 ],
 "metadata": {
  "kernelspec": {
   "display_name": "decision-transformer-atari",
   "language": "python",
   "name": "decision-transformer-atari"
  },
  "language_info": {
   "codemirror_mode": {
    "name": "ipython",
    "version": 3
   },
   "file_extension": ".py",
   "mimetype": "text/x-python",
   "name": "python",
   "nbconvert_exporter": "python",
   "pygments_lexer": "ipython3",
   "version": "3.7.9"
  }
 },
 "nbformat": 4,
 "nbformat_minor": 5
}
